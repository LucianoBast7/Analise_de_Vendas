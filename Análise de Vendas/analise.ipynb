{
 "cells": [
  {
   "cell_type": "markdown",
   "metadata": {},
   "source": [
    "# Análise dos Dados Consolidados"
   ]
  },
  {
   "cell_type": "code",
   "execution_count": 29,
   "metadata": {},
   "outputs": [],
   "source": [
    "import pandas as pd"
   ]
  },
  {
   "cell_type": "code",
   "execution_count": 30,
   "metadata": {},
   "outputs": [],
   "source": [
    "df = pd.read_excel('report-consolidado.xlsx')"
   ]
  },
  {
   "cell_type": "code",
   "execution_count": 31,
   "metadata": {},
   "outputs": [
    {
     "data": {
      "text/plain": [
       "Index(['Segmento', 'País', 'Produto', 'Qtde de Unidades Vendidas',\n",
       "       'Preço Unitário', 'Valor Total', 'Desconto', 'Valor Total c/ Desconto',\n",
       "       'Custo Total', 'Lucro', 'Data', 'Mês', 'Ano'],\n",
       "      dtype='object')"
      ]
     },
     "execution_count": 31,
     "metadata": {},
     "output_type": "execute_result"
    }
   ],
   "source": [
    "df.columns"
   ]
  },
  {
   "cell_type": "code",
   "execution_count": 32,
   "metadata": {},
   "outputs": [],
   "source": [
    "def tratar_nome_colunas(colunas):\n",
    "    colunas_tratadas = (\n",
    "        colunas.str.strip()\n",
    "               .str.lower()\n",
    "               .str.replace(' ', '_', regex=True)\n",
    "               .str.replace(r'[^\\w]', '', regex=True)\n",
    "    )\n",
    "    return colunas_tratadas\n"
   ]
  },
  {
   "cell_type": "code",
   "execution_count": 33,
   "metadata": {},
   "outputs": [],
   "source": [
    "df.columns = tratar_nome_colunas(df.columns)"
   ]
  },
  {
   "cell_type": "code",
   "execution_count": 34,
   "metadata": {},
   "outputs": [
    {
     "data": {
      "text/plain": [
       "Index(['segmento', 'país', 'produto', 'qtde_de_unidades_vendidas',\n",
       "       'preço_unitário', 'valor_total', 'desconto', 'valor_total_c_desconto',\n",
       "       'custo_total', 'lucro', 'data', 'mês', 'ano'],\n",
       "      dtype='object')"
      ]
     },
     "execution_count": 34,
     "metadata": {},
     "output_type": "execute_result"
    }
   ],
   "source": [
    "df.columns"
   ]
  },
  {
   "cell_type": "markdown",
   "metadata": {},
   "source": [
    "## Agrupando Dados"
   ]
  },
  {
   "cell_type": "markdown",
   "metadata": {},
   "source": [
    "#### Por Segmento"
   ]
  },
  {
   "cell_type": "code",
   "execution_count": 35,
   "metadata": {},
   "outputs": [
    {
     "data": {
      "text/html": [
       "<div>\n",
       "<style scoped>\n",
       "    .dataframe tbody tr th:only-of-type {\n",
       "        vertical-align: middle;\n",
       "    }\n",
       "\n",
       "    .dataframe tbody tr th {\n",
       "        vertical-align: top;\n",
       "    }\n",
       "\n",
       "    .dataframe thead th {\n",
       "        text-align: right;\n",
       "    }\n",
       "</style>\n",
       "<table border=\"1\" class=\"dataframe\">\n",
       "  <thead>\n",
       "    <tr style=\"text-align: right;\">\n",
       "      <th></th>\n",
       "      <th>desconto</th>\n",
       "      <th>custo_total</th>\n",
       "      <th>lucro</th>\n",
       "      <th>margem_lucro</th>\n",
       "    </tr>\n",
       "    <tr>\n",
       "      <th>segmento</th>\n",
       "      <th></th>\n",
       "      <th></th>\n",
       "      <th></th>\n",
       "      <th></th>\n",
       "    </tr>\n",
       "  </thead>\n",
       "  <tbody>\n",
       "    <tr>\n",
       "      <th>Governo</th>\n",
       "      <td>3898805.83</td>\n",
       "      <td>41584282.5</td>\n",
       "      <td>10919978.17</td>\n",
       "      <td>280.09</td>\n",
       "    </tr>\n",
       "    <tr>\n",
       "      <th>Grandes empresas</th>\n",
       "      <td>1457305.62</td>\n",
       "      <td>20568882.0</td>\n",
       "      <td>-957187.63</td>\n",
       "      <td>-65.68</td>\n",
       "    </tr>\n",
       "    <tr>\n",
       "      <th>Médias empresas</th>\n",
       "      <td>200786.92</td>\n",
       "      <td>1746100.0</td>\n",
       "      <td>635783.07</td>\n",
       "      <td>316.65</td>\n",
       "    </tr>\n",
       "    <tr>\n",
       "      <th>Pequenas empresas</th>\n",
       "      <td>3513781.50</td>\n",
       "      <td>38641000.0</td>\n",
       "      <td>3786918.50</td>\n",
       "      <td>107.77</td>\n",
       "    </tr>\n",
       "    <tr>\n",
       "      <th>Vendas online</th>\n",
       "      <td>134568.36</td>\n",
       "      <td>491233.8</td>\n",
       "      <td>1309359.84</td>\n",
       "      <td>973.01</td>\n",
       "    </tr>\n",
       "  </tbody>\n",
       "</table>\n",
       "</div>"
      ],
      "text/plain": [
       "                     desconto  custo_total        lucro  margem_lucro\n",
       "segmento                                                             \n",
       "Governo            3898805.83   41584282.5  10919978.17        280.09\n",
       "Grandes empresas   1457305.62   20568882.0   -957187.63        -65.68\n",
       "Médias empresas     200786.92    1746100.0    635783.07        316.65\n",
       "Pequenas empresas  3513781.50   38641000.0   3786918.50        107.77\n",
       "Vendas online       134568.36     491233.8   1309359.84        973.01"
      ]
     },
     "execution_count": 35,
     "metadata": {},
     "output_type": "execute_result"
    }
   ],
   "source": [
    "colunas = ['desconto', 'custo_total', 'lucro']\n",
    "df_segmento = df.groupby('segmento')[colunas].sum().round(2)\n",
    "df_segmento['margem_lucro'] = round((df_segmento['lucro'] / df_segmento['desconto']) * 100,2)\n",
    "df_segmento"
   ]
  },
  {
   "cell_type": "markdown",
   "metadata": {},
   "source": [
    "#### Por Produto"
   ]
  },
  {
   "cell_type": "code",
   "execution_count": 36,
   "metadata": {},
   "outputs": [
    {
     "data": {
      "text/html": [
       "<div>\n",
       "<style scoped>\n",
       "    .dataframe tbody tr th:only-of-type {\n",
       "        vertical-align: middle;\n",
       "    }\n",
       "\n",
       "    .dataframe tbody tr th {\n",
       "        vertical-align: top;\n",
       "    }\n",
       "\n",
       "    .dataframe thead th {\n",
       "        text-align: right;\n",
       "    }\n",
       "</style>\n",
       "<table border=\"1\" class=\"dataframe\">\n",
       "  <thead>\n",
       "    <tr style=\"text-align: right;\">\n",
       "      <th></th>\n",
       "      <th>desconto</th>\n",
       "      <th>custo_total</th>\n",
       "      <th>lucro</th>\n",
       "      <th>margem_lucro</th>\n",
       "    </tr>\n",
       "    <tr>\n",
       "      <th>produto</th>\n",
       "      <th></th>\n",
       "      <th></th>\n",
       "      <th></th>\n",
       "      <th></th>\n",
       "    </tr>\n",
       "  </thead>\n",
       "  <tbody>\n",
       "    <tr>\n",
       "      <th>Produto 1</th>\n",
       "      <td>1122212.62</td>\n",
       "      <td>13187353.3</td>\n",
       "      <td>627954.58</td>\n",
       "      <td>55.96</td>\n",
       "    </tr>\n",
       "    <tr>\n",
       "      <th>Produto 2</th>\n",
       "      <td>1159032.62</td>\n",
       "      <td>13276047.0</td>\n",
       "      <td>2114754.88</td>\n",
       "      <td>182.46</td>\n",
       "    </tr>\n",
       "    <tr>\n",
       "      <th>Produto 3</th>\n",
       "      <td>2600518.05</td>\n",
       "      <td>28213706.0</td>\n",
       "      <td>4797437.95</td>\n",
       "      <td>184.48</td>\n",
       "    </tr>\n",
       "    <tr>\n",
       "      <th>Produto 4</th>\n",
       "      <td>1576709.04</td>\n",
       "      <td>15944067.0</td>\n",
       "      <td>2305992.46</td>\n",
       "      <td>146.25</td>\n",
       "    </tr>\n",
       "    <tr>\n",
       "      <th>Produto 5</th>\n",
       "      <td>1456612.48</td>\n",
       "      <td>17477313.0</td>\n",
       "      <td>3034608.02</td>\n",
       "      <td>208.33</td>\n",
       "    </tr>\n",
       "    <tr>\n",
       "      <th>Produto 6</th>\n",
       "      <td>1290163.44</td>\n",
       "      <td>14933012.0</td>\n",
       "      <td>2814104.06</td>\n",
       "      <td>218.12</td>\n",
       "    </tr>\n",
       "  </tbody>\n",
       "</table>\n",
       "</div>"
      ],
      "text/plain": [
       "             desconto  custo_total       lucro  margem_lucro\n",
       "produto                                                     \n",
       "Produto 1  1122212.62   13187353.3   627954.58         55.96\n",
       "Produto 2  1159032.62   13276047.0  2114754.88        182.46\n",
       "Produto 3  2600518.05   28213706.0  4797437.95        184.48\n",
       "Produto 4  1576709.04   15944067.0  2305992.46        146.25\n",
       "Produto 5  1456612.48   17477313.0  3034608.02        208.33\n",
       "Produto 6  1290163.44   14933012.0  2814104.06        218.12"
      ]
     },
     "execution_count": 36,
     "metadata": {},
     "output_type": "execute_result"
    }
   ],
   "source": [
    "colunas = ['desconto', 'custo_total', 'lucro']\n",
    "df_produto = df.groupby('produto')[colunas].sum().round(2)\n",
    "df_produto['margem_lucro'] = round((df_produto['lucro'] / df_produto['desconto']) * 100,2)\n",
    "df_produto"
   ]
  },
  {
   "cell_type": "markdown",
   "metadata": {},
   "source": [
    "#### Por País"
   ]
  },
  {
   "cell_type": "code",
   "execution_count": 37,
   "metadata": {},
   "outputs": [
    {
     "data": {
      "text/html": [
       "<div>\n",
       "<style scoped>\n",
       "    .dataframe tbody tr th:only-of-type {\n",
       "        vertical-align: middle;\n",
       "    }\n",
       "\n",
       "    .dataframe tbody tr th {\n",
       "        vertical-align: top;\n",
       "    }\n",
       "\n",
       "    .dataframe thead th {\n",
       "        text-align: right;\n",
       "    }\n",
       "</style>\n",
       "<table border=\"1\" class=\"dataframe\">\n",
       "  <thead>\n",
       "    <tr style=\"text-align: right;\">\n",
       "      <th></th>\n",
       "      <th>desconto</th>\n",
       "      <th>custo_total</th>\n",
       "      <th>lucro</th>\n",
       "      <th>margem_lucro</th>\n",
       "    </tr>\n",
       "    <tr>\n",
       "      <th>país</th>\n",
       "      <th></th>\n",
       "      <th></th>\n",
       "      <th></th>\n",
       "      <th></th>\n",
       "    </tr>\n",
       "  </thead>\n",
       "  <tbody>\n",
       "    <tr>\n",
       "      <th>Alemanha</th>\n",
       "      <td>1416126.68</td>\n",
       "      <td>20094218.6</td>\n",
       "      <td>3411122.22</td>\n",
       "      <td>240.88</td>\n",
       "    </tr>\n",
       "    <tr>\n",
       "      <th>Canadá</th>\n",
       "      <td>2044508.62</td>\n",
       "      <td>21575835.9</td>\n",
       "      <td>3311818.98</td>\n",
       "      <td>161.99</td>\n",
       "    </tr>\n",
       "    <tr>\n",
       "      <th>Chile</th>\n",
       "      <td>1777582.89</td>\n",
       "      <td>18290422.3</td>\n",
       "      <td>2658929.81</td>\n",
       "      <td>149.58</td>\n",
       "    </tr>\n",
       "    <tr>\n",
       "      <th>EUA</th>\n",
       "      <td>2239527.84</td>\n",
       "      <td>22194424.3</td>\n",
       "      <td>2835405.86</td>\n",
       "      <td>126.61</td>\n",
       "    </tr>\n",
       "    <tr>\n",
       "      <th>França</th>\n",
       "      <td>1727502.22</td>\n",
       "      <td>20876597.2</td>\n",
       "      <td>3477575.08</td>\n",
       "      <td>201.31</td>\n",
       "    </tr>\n",
       "  </tbody>\n",
       "</table>\n",
       "</div>"
      ],
      "text/plain": [
       "            desconto  custo_total       lucro  margem_lucro\n",
       "país                                                       \n",
       "Alemanha  1416126.68   20094218.6  3411122.22        240.88\n",
       "Canadá    2044508.62   21575835.9  3311818.98        161.99\n",
       "Chile     1777582.89   18290422.3  2658929.81        149.58\n",
       "EUA       2239527.84   22194424.3  2835405.86        126.61\n",
       "França    1727502.22   20876597.2  3477575.08        201.31"
      ]
     },
     "execution_count": 37,
     "metadata": {},
     "output_type": "execute_result"
    }
   ],
   "source": [
    "colunas = ['desconto', 'custo_total', 'lucro']\n",
    "df_pais = df.groupby('país')[colunas].sum().round(2)\n",
    "df_pais['margem_lucro'] = round((df_pais['lucro'] / df_pais['desconto']) * 100,2)\n",
    "df_pais"
   ]
  }
 ],
 "metadata": {
  "kernelspec": {
   "display_name": "Python 3",
   "language": "python",
   "name": "python3"
  },
  "language_info": {
   "codemirror_mode": {
    "name": "ipython",
    "version": 3
   },
   "file_extension": ".py",
   "mimetype": "text/x-python",
   "name": "python",
   "nbconvert_exporter": "python",
   "pygments_lexer": "ipython3",
   "version": "3.12.6"
  }
 },
 "nbformat": 4,
 "nbformat_minor": 2
}
